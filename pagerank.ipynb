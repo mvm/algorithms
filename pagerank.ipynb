{
 "cells": [
  {
   "cell_type": "markdown",
   "id": "8dd45da6",
   "metadata": {},
   "source": [
    "This is a sample PageRank implementation, running it on a simple example made of some nodes. Each node represents a web page, and has a number of links going towards other pages in the web graph. Nodes are identified by their `id` field."
   ]
  },
  {
   "cell_type": "code",
   "execution_count": 1,
   "id": "27d6db1a",
   "metadata": {},
   "outputs": [],
   "source": [
    "import numpy as np"
   ]
  },
  {
   "cell_type": "code",
   "execution_count": 2,
   "id": "22770762",
   "metadata": {},
   "outputs": [],
   "source": [
    "class Node:\n",
    "    def __init__(self, id):\n",
    "        self.id = id\n",
    "        self.links = []\n",
    "    \n",
    "    def addLink(self, id_to):\n",
    "        self.links.append(id_to)\n",
    "        id_to.links.append(self)\n",
    "        \n",
    "    def __repr__(self):\n",
    "        return \"<Node id=%d>\" % (self.id,)"
   ]
  },
  {
   "cell_type": "code",
   "execution_count": 3,
   "id": "56ae5e72",
   "metadata": {},
   "outputs": [],
   "source": [
    "n1 = Node(1)\n",
    "n2 = Node(2)\n",
    "n3 = Node(3)\n",
    "n4 = Node(4)\n",
    "n5 = Node(5)\n",
    "\n",
    "n2.addLink(n1)\n",
    "n3.addLink(n2)\n",
    "n5.addLink(n4)\n",
    "n1.addLink(n2)\n",
    "n3.addLink(n1)"
   ]
  },
  {
   "cell_type": "code",
   "execution_count": 4,
   "id": "0e8cf6c6",
   "metadata": {},
   "outputs": [],
   "source": [
    "class WebGraph:\n",
    "    def __init__(self, nodes=[]):\n",
    "        if not isinstance(nodes, list):\n",
    "            raise TypeError(\"nodes argument is not a list\")\n",
    "        self.nodes = nodes\n",
    "    def addNode(self, node):\n",
    "        self.nodes.append(node)\n",
    "    def getMaxNode(self):\n",
    "        max_node_id = 0\n",
    "        for n in self.nodes:\n",
    "            if n.id > max_node_id:\n",
    "                max_node_id = n.id\n",
    "        return max_node_id"
   ]
  },
  {
   "cell_type": "code",
   "execution_count": 5,
   "id": "fc98e1c1",
   "metadata": {},
   "outputs": [
    {
     "data": {
      "text/plain": [
       "[<Node id=1>, <Node id=2>, <Node id=3>, <Node id=4>, <Node id=5>]"
      ]
     },
     "execution_count": 5,
     "metadata": {},
     "output_type": "execute_result"
    }
   ],
   "source": [
    "graph = WebGraph()\n",
    "graph.addNode(n1)\n",
    "graph.addNode(n2)\n",
    "graph.addNode(n3)\n",
    "graph.addNode(n4)\n",
    "graph.addNode(n5)\n",
    "graph.nodes"
   ]
  },
  {
   "cell_type": "code",
   "execution_count": 6,
   "id": "0fee9ea0",
   "metadata": {},
   "outputs": [
    {
     "data": {
      "text/plain": [
       "array([[0., 0., 0., 0., 0., 0.],\n",
       "       [0., 0., 1., 1., 0., 0.],\n",
       "       [0., 1., 0., 1., 0., 0.],\n",
       "       [0., 1., 1., 0., 0., 0.],\n",
       "       [0., 0., 0., 0., 0., 1.],\n",
       "       [0., 0., 0., 0., 1., 0.]])"
      ]
     },
     "execution_count": 6,
     "metadata": {},
     "output_type": "execute_result"
    }
   ],
   "source": [
    "def getLinkMatrix(graph):\n",
    "    num_nodes = graph.getMaxNode()\n",
    "    result = np.zeros((num_nodes+1, num_nodes+1))\n",
    "    for node in graph.nodes:\n",
    "        for link in node.links:\n",
    "            result[link.id, node.id] = 1\n",
    "    return result\n",
    "\n",
    "A = getLinkMatrix(graph)\n",
    "A"
   ]
  },
  {
   "cell_type": "code",
   "execution_count": 7,
   "id": "f094c972",
   "metadata": {},
   "outputs": [
    {
     "data": {
      "text/plain": [
       "array([[0.        ],\n",
       "       [0.53452248],\n",
       "       [0.53452248],\n",
       "       [0.53452248],\n",
       "       [0.26726124],\n",
       "       [0.26726124]])"
      ]
     },
     "execution_count": 7,
     "metadata": {},
     "output_type": "execute_result"
    }
   ],
   "source": [
    "num_nodes = graph.getMaxNode() + 1\n",
    "x = np.ones((num_nodes, 1)) / num_nodes\n",
    "y = x\n",
    "for i in range(0,10):\n",
    "    y = A @ y\n",
    "    y /= np.linalg.norm(y)\n",
    "y"
   ]
  },
  {
   "cell_type": "code",
   "execution_count": null,
   "id": "b08dafa9",
   "metadata": {},
   "outputs": [],
   "source": []
  }
 ],
 "metadata": {
  "kernelspec": {
   "display_name": "Python 3 (ipykernel)",
   "language": "python",
   "name": "python3"
  },
  "language_info": {
   "codemirror_mode": {
    "name": "ipython",
    "version": 3
   },
   "file_extension": ".py",
   "mimetype": "text/x-python",
   "name": "python",
   "nbconvert_exporter": "python",
   "pygments_lexer": "ipython3",
   "version": "3.11.5"
  }
 },
 "nbformat": 4,
 "nbformat_minor": 5
}
